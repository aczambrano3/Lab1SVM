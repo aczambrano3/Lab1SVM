{
 "cells": [
  {
   "cell_type": "code",
   "execution_count": 19,
   "id": "5f9119cc",
   "metadata": {},
   "outputs": [],
   "source": [
    "from sklearn import datasets\n",
    "from sklearn.model_selection import train_test_split\n",
    "from sklearn import svm\n",
    "from sklearn import metrics\n",
    "import pandas as pd\n",
    "import numpy as np\n",
    "import seaborn as sn\n",
    "import matplotlib.pyplot as plt"
   ]
  },
  {
   "cell_type": "code",
   "execution_count": 3,
   "id": "fee645a0",
   "metadata": {},
   "outputs": [
    {
     "data": {
      "text/html": [
       "<div>\n",
       "<style scoped>\n",
       "    .dataframe tbody tr th:only-of-type {\n",
       "        vertical-align: middle;\n",
       "    }\n",
       "\n",
       "    .dataframe tbody tr th {\n",
       "        vertical-align: top;\n",
       "    }\n",
       "\n",
       "    .dataframe thead th {\n",
       "        text-align: right;\n",
       "    }\n",
       "</style>\n",
       "<table border=\"1\" class=\"dataframe\">\n",
       "  <thead>\n",
       "    <tr style=\"text-align: right;\">\n",
       "      <th></th>\n",
       "      <th>mora</th>\n",
       "      <th>atraso</th>\n",
       "      <th>vivienda</th>\n",
       "      <th>edad</th>\n",
       "      <th>dias_lab</th>\n",
       "      <th>exp_sf</th>\n",
       "      <th>nivel_ahorro</th>\n",
       "      <th>ingreso</th>\n",
       "      <th>linea_sf</th>\n",
       "      <th>deuda_sf</th>\n",
       "      <th>score</th>\n",
       "      <th>zona</th>\n",
       "      <th>clasif_sbs</th>\n",
       "      <th>nivel_educ</th>\n",
       "    </tr>\n",
       "  </thead>\n",
       "  <tbody>\n",
       "    <tr>\n",
       "      <th>0</th>\n",
       "      <td>0</td>\n",
       "      <td>235</td>\n",
       "      <td>1</td>\n",
       "      <td>30</td>\n",
       "      <td>3748</td>\n",
       "      <td>93</td>\n",
       "      <td>5</td>\n",
       "      <td>3500.00</td>\n",
       "      <td>121543.40</td>\n",
       "      <td>0.00</td>\n",
       "      <td>214</td>\n",
       "      <td>15</td>\n",
       "      <td>4</td>\n",
       "      <td>3</td>\n",
       "    </tr>\n",
       "    <tr>\n",
       "      <th>1</th>\n",
       "      <td>0</td>\n",
       "      <td>18</td>\n",
       "      <td>1</td>\n",
       "      <td>32</td>\n",
       "      <td>4598</td>\n",
       "      <td>9</td>\n",
       "      <td>12</td>\n",
       "      <td>900.00</td>\n",
       "      <td>1824.67</td>\n",
       "      <td>1933.75</td>\n",
       "      <td>175</td>\n",
       "      <td>13</td>\n",
       "      <td>1</td>\n",
       "      <td>2</td>\n",
       "    </tr>\n",
       "    <tr>\n",
       "      <th>2</th>\n",
       "      <td>0</td>\n",
       "      <td>0</td>\n",
       "      <td>1</td>\n",
       "      <td>26</td>\n",
       "      <td>5148</td>\n",
       "      <td>8</td>\n",
       "      <td>2</td>\n",
       "      <td>2400.00</td>\n",
       "      <td>2797.38</td>\n",
       "      <td>188.29</td>\n",
       "      <td>187</td>\n",
       "      <td>15</td>\n",
       "      <td>0</td>\n",
       "      <td>3</td>\n",
       "    </tr>\n",
       "    <tr>\n",
       "      <th>3</th>\n",
       "      <td>0</td>\n",
       "      <td>0</td>\n",
       "      <td>1</td>\n",
       "      <td>36</td>\n",
       "      <td>5179</td>\n",
       "      <td>20</td>\n",
       "      <td>12</td>\n",
       "      <td>2700.00</td>\n",
       "      <td>121543.40</td>\n",
       "      <td>0.00</td>\n",
       "      <td>187</td>\n",
       "      <td>2</td>\n",
       "      <td>0</td>\n",
       "      <td>2</td>\n",
       "    </tr>\n",
       "    <tr>\n",
       "      <th>4</th>\n",
       "      <td>0</td>\n",
       "      <td>0</td>\n",
       "      <td>1</td>\n",
       "      <td>46</td>\n",
       "      <td>3960</td>\n",
       "      <td>3</td>\n",
       "      <td>1</td>\n",
       "      <td>3100.00</td>\n",
       "      <td>2000.00</td>\n",
       "      <td>11010.65</td>\n",
       "      <td>189</td>\n",
       "      <td>15</td>\n",
       "      <td>0</td>\n",
       "      <td>2</td>\n",
       "    </tr>\n",
       "    <tr>\n",
       "      <th>...</th>\n",
       "      <td>...</td>\n",
       "      <td>...</td>\n",
       "      <td>...</td>\n",
       "      <td>...</td>\n",
       "      <td>...</td>\n",
       "      <td>...</td>\n",
       "      <td>...</td>\n",
       "      <td>...</td>\n",
       "      <td>...</td>\n",
       "      <td>...</td>\n",
       "      <td>...</td>\n",
       "      <td>...</td>\n",
       "      <td>...</td>\n",
       "      <td>...</td>\n",
       "    </tr>\n",
       "    <tr>\n",
       "      <th>3747</th>\n",
       "      <td>1</td>\n",
       "      <td>9</td>\n",
       "      <td>1</td>\n",
       "      <td>53</td>\n",
       "      <td>8282</td>\n",
       "      <td>3</td>\n",
       "      <td>12</td>\n",
       "      <td>3500.00</td>\n",
       "      <td>121543.40</td>\n",
       "      <td>957.89</td>\n",
       "      <td>215</td>\n",
       "      <td>15</td>\n",
       "      <td>0</td>\n",
       "      <td>3</td>\n",
       "    </tr>\n",
       "    <tr>\n",
       "      <th>3748</th>\n",
       "      <td>1</td>\n",
       "      <td>0</td>\n",
       "      <td>1</td>\n",
       "      <td>47</td>\n",
       "      <td>5847</td>\n",
       "      <td>47</td>\n",
       "      <td>12</td>\n",
       "      <td>1388.25</td>\n",
       "      <td>11080.33</td>\n",
       "      <td>0.50</td>\n",
       "      <td>180</td>\n",
       "      <td>15</td>\n",
       "      <td>1</td>\n",
       "      <td>2</td>\n",
       "    </tr>\n",
       "    <tr>\n",
       "      <th>3749</th>\n",
       "      <td>1</td>\n",
       "      <td>0</td>\n",
       "      <td>1</td>\n",
       "      <td>31</td>\n",
       "      <td>3991</td>\n",
       "      <td>10</td>\n",
       "      <td>12</td>\n",
       "      <td>2100.00</td>\n",
       "      <td>3570.00</td>\n",
       "      <td>8567.67</td>\n",
       "      <td>200</td>\n",
       "      <td>15</td>\n",
       "      <td>0</td>\n",
       "      <td>3</td>\n",
       "    </tr>\n",
       "    <tr>\n",
       "      <th>3750</th>\n",
       "      <td>1</td>\n",
       "      <td>2</td>\n",
       "      <td>2</td>\n",
       "      <td>28</td>\n",
       "      <td>4995</td>\n",
       "      <td>9</td>\n",
       "      <td>12</td>\n",
       "      <td>1047.29</td>\n",
       "      <td>1129.65</td>\n",
       "      <td>1937.06</td>\n",
       "      <td>194</td>\n",
       "      <td>12</td>\n",
       "      <td>0</td>\n",
       "      <td>2</td>\n",
       "    </tr>\n",
       "    <tr>\n",
       "      <th>3751</th>\n",
       "      <td>1</td>\n",
       "      <td>51</td>\n",
       "      <td>2</td>\n",
       "      <td>33</td>\n",
       "      <td>4935</td>\n",
       "      <td>27</td>\n",
       "      <td>12</td>\n",
       "      <td>1434.96</td>\n",
       "      <td>1000.00</td>\n",
       "      <td>4314.83</td>\n",
       "      <td>194</td>\n",
       "      <td>20</td>\n",
       "      <td>2</td>\n",
       "      <td>2</td>\n",
       "    </tr>\n",
       "  </tbody>\n",
       "</table>\n",
       "<p>3752 rows × 14 columns</p>\n",
       "</div>"
      ],
      "text/plain": [
       "      mora  atraso  vivienda  edad  dias_lab  exp_sf  nivel_ahorro  ingreso  \\\n",
       "0        0     235         1    30      3748      93             5  3500.00   \n",
       "1        0      18         1    32      4598       9            12   900.00   \n",
       "2        0       0         1    26      5148       8             2  2400.00   \n",
       "3        0       0         1    36      5179      20            12  2700.00   \n",
       "4        0       0         1    46      3960       3             1  3100.00   \n",
       "...    ...     ...       ...   ...       ...     ...           ...      ...   \n",
       "3747     1       9         1    53      8282       3            12  3500.00   \n",
       "3748     1       0         1    47      5847      47            12  1388.25   \n",
       "3749     1       0         1    31      3991      10            12  2100.00   \n",
       "3750     1       2         2    28      4995       9            12  1047.29   \n",
       "3751     1      51         2    33      4935      27            12  1434.96   \n",
       "\n",
       "       linea_sf  deuda_sf  score  zona  clasif_sbs  nivel_educ  \n",
       "0     121543.40      0.00    214    15           4           3  \n",
       "1       1824.67   1933.75    175    13           1           2  \n",
       "2       2797.38    188.29    187    15           0           3  \n",
       "3     121543.40      0.00    187     2           0           2  \n",
       "4       2000.00  11010.65    189    15           0           2  \n",
       "...         ...       ...    ...   ...         ...         ...  \n",
       "3747  121543.40    957.89    215    15           0           3  \n",
       "3748   11080.33      0.50    180    15           1           2  \n",
       "3749    3570.00   8567.67    200    15           0           3  \n",
       "3750    1129.65   1937.06    194    12           0           2  \n",
       "3751    1000.00   4314.83    194    20           2           2  \n",
       "\n",
       "[3752 rows x 14 columns]"
      ]
     },
     "execution_count": 3,
     "metadata": {},
     "output_type": "execute_result"
    }
   ],
   "source": [
    "df = pd.read_csv('dataset3.csv')\n",
    "df"
   ]
  },
  {
   "cell_type": "code",
   "execution_count": 4,
   "id": "c59e3e7f",
   "metadata": {},
   "outputs": [
    {
     "data": {
      "text/plain": [
       "array([[235.,   1.,  30., ...,  15.,   4.,   3.],\n",
       "       [ 18.,   1.,  32., ...,  13.,   1.,   2.],\n",
       "       [  0.,   1.,  26., ...,  15.,   0.,   3.],\n",
       "       ...,\n",
       "       [  0.,   1.,  31., ...,  15.,   0.,   3.],\n",
       "       [  2.,   2.,  28., ...,  12.,   0.,   2.],\n",
       "       [ 51.,   2.,  33., ...,  20.,   2.,   2.]])"
      ]
     },
     "execution_count": 4,
     "metadata": {},
     "output_type": "execute_result"
    }
   ],
   "source": [
    "X= df.drop(['mora'], axis=1)\n",
    "X.values"
   ]
  },
  {
   "cell_type": "code",
   "execution_count": 5,
   "id": "095a5afe",
   "metadata": {},
   "outputs": [
    {
     "data": {
      "text/plain": [
       "array([0, 0, 0, ..., 1, 1, 1], dtype=int64)"
      ]
     },
     "execution_count": 5,
     "metadata": {},
     "output_type": "execute_result"
    }
   ],
   "source": [
    "y = np.array(df['mora'])\n",
    "y"
   ]
  },
  {
   "cell_type": "code",
   "execution_count": 8,
   "id": "a9293339",
   "metadata": {},
   "outputs": [],
   "source": [
    "X_entrenamiento, X_pruebas, y_entrenamiento, y_pruebas= train_test_split(X, y, test_size=0.3, random_state=100)"
   ]
  },
  {
   "cell_type": "code",
   "execution_count": 9,
   "id": "669a645d",
   "metadata": {},
   "outputs": [],
   "source": [
    "clasificador = svm.SVC(kernel='linear')\n"
   ]
  },
  {
   "cell_type": "code",
   "execution_count": 10,
   "id": "5d61453c",
   "metadata": {},
   "outputs": [
    {
     "data": {
      "text/plain": [
       "SVC(kernel='linear')"
      ]
     },
     "execution_count": 10,
     "metadata": {},
     "output_type": "execute_result"
    }
   ],
   "source": [
    "clasificador.fit(X_entrenamiento, y_entrenamiento)\n"
   ]
  },
  {
   "cell_type": "code",
   "execution_count": 11,
   "id": "f5a9d5e6",
   "metadata": {},
   "outputs": [],
   "source": [
    "y_prediccion = clasificador.predict(X_pruebas)"
   ]
  },
  {
   "cell_type": "code",
   "execution_count": 12,
   "id": "aee0bc27",
   "metadata": {},
   "outputs": [
    {
     "name": "stdout",
     "output_type": "stream",
     "text": [
      "Accuracy: 0.7264653641207816\n",
      "Precision: 0.7291941875825627\n",
      "Recall: 0.8427480916030534\n"
     ]
    }
   ],
   "source": [
    "print(\"Accuracy:\", metrics.accuracy_score(y_pruebas, y_prediccion))\n",
    "print(\"Precision:\", metrics.precision_score(y_pruebas, y_prediccion))\n",
    "print(\"Recall:\", metrics.recall_score(y_pruebas, y_prediccion))"
   ]
  },
  {
   "cell_type": "code",
   "execution_count": 24,
   "id": "4afbb447",
   "metadata": {},
   "outputs": [
    {
     "data": {
      "text/plain": [
       "(1126,)"
      ]
     },
     "execution_count": 24,
     "metadata": {},
     "output_type": "execute_result"
    }
   ],
   "source": [
    "y_pruebas.shape"
   ]
  },
  {
   "cell_type": "code",
   "execution_count": 25,
   "id": "1b53b0e8",
   "metadata": {},
   "outputs": [
    {
     "data": {
      "text/plain": [
       "(1126,)"
      ]
     },
     "execution_count": 25,
     "metadata": {},
     "output_type": "execute_result"
    }
   ],
   "source": [
    "y_prediccion.shape"
   ]
  },
  {
   "cell_type": "code",
   "execution_count": 15,
   "id": "0a7dda70",
   "metadata": {},
   "outputs": [
    {
     "data": {
      "text/html": [
       "<div>\n",
       "<style scoped>\n",
       "    .dataframe tbody tr th:only-of-type {\n",
       "        vertical-align: middle;\n",
       "    }\n",
       "\n",
       "    .dataframe tbody tr th {\n",
       "        vertical-align: top;\n",
       "    }\n",
       "\n",
       "    .dataframe thead th {\n",
       "        text-align: right;\n",
       "    }\n",
       "</style>\n",
       "<table border=\"1\" class=\"dataframe\">\n",
       "  <thead>\n",
       "    <tr style=\"text-align: right;\">\n",
       "      <th>Predicción</th>\n",
       "      <th>0</th>\n",
       "      <th>1</th>\n",
       "    </tr>\n",
       "    <tr>\n",
       "      <th>Actual</th>\n",
       "      <th></th>\n",
       "      <th></th>\n",
       "    </tr>\n",
       "  </thead>\n",
       "  <tbody>\n",
       "    <tr>\n",
       "      <th>0</th>\n",
       "      <td>266</td>\n",
       "      <td>205</td>\n",
       "    </tr>\n",
       "    <tr>\n",
       "      <th>1</th>\n",
       "      <td>103</td>\n",
       "      <td>552</td>\n",
       "    </tr>\n",
       "  </tbody>\n",
       "</table>\n",
       "</div>"
      ],
      "text/plain": [
       "Predicción    0    1\n",
       "Actual              \n",
       "0           266  205\n",
       "1           103  552"
      ]
     },
     "execution_count": 15,
     "metadata": {},
     "output_type": "execute_result"
    }
   ],
   "source": [
    "matriz_Confusion = pd.crosstab(y_pruebas, y_prediccion, rownames=['Actual'], colnames=['Predicción'])\n",
    "matriz_Confusion"
   ]
  },
  {
   "cell_type": "code",
   "execution_count": 22,
   "id": "1821dd2e",
   "metadata": {},
   "outputs": [
    {
     "data": {
      "image/png": "[encoded data removed]",
      "text/plain": [
       "<Figure size 432x288 with 2 Axes>"
      ]
     },
     "metadata": {
      "needs_background": "light"
     },
     "output_type": "display_data"
    }
   ],
   "source": [
    "sn.heatmap(matriz_Confusion, annot=True)\n",
    "plt.show()"
   ]
  },
  {
   "cell_type": "code",
   "execution_count": null,
   "id": "8bb601f6",
   "metadata": {},
   "outputs": [],
   "source": []
  }
 ],
 "metadata": {
  "kernelspec": {
   "display_name": "Python 3 (ipykernel)",
   "language": "python",
   "name": "python3"
  },
  "language_info": {
   "codemirror_mode": {
    "name": "ipython",
    "version": 3
   },
   "file_extension": ".py",
   "mimetype": "text/x-python",
   "name": "python",
   "nbconvert_exporter": "python",
   "pygments_lexer": "ipython3",
   "version": "3.9.7"
  }
 },
 "nbformat": 4,
 "nbformat_minor": 5
}
